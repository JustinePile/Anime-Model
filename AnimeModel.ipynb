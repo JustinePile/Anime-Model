{
 "cells": [
  {
   "cell_type": "code",
   "execution_count": 4,
   "id": "7012ca69-1eb5-41cd-bda0-502eb43a7283",
   "metadata": {},
   "outputs": [],
   "source": [
    "import pandas as pd\n",
    "from sklearn.model_selection import train_test_split\n",
    "from sklearn.linear_model import LinearRegression\n",
    "from sklearn.metrics import mean_squared_error, r2_score"
   ]
  },
  {
   "cell_type": "code",
   "execution_count": 5,
   "id": "63d57ab0-57ee-4681-ba1b-f41cb9ee69e8",
   "metadata": {},
   "outputs": [
    {
     "data": {
      "text/html": [
       "<div>\n",
       "<style scoped>\n",
       "    .dataframe tbody tr th:only-of-type {\n",
       "        vertical-align: middle;\n",
       "    }\n",
       "\n",
       "    .dataframe tbody tr th {\n",
       "        vertical-align: top;\n",
       "    }\n",
       "\n",
       "    .dataframe thead th {\n",
       "        text-align: right;\n",
       "    }\n",
       "</style>\n",
       "<table border=\"1\" class=\"dataframe\">\n",
       "  <thead>\n",
       "    <tr style=\"text-align: right;\">\n",
       "      <th></th>\n",
       "      <th>Unnamed: 0</th>\n",
       "      <th>Title</th>\n",
       "      <th>Rank</th>\n",
       "      <th>Type</th>\n",
       "      <th>Episodes</th>\n",
       "      <th>Aired</th>\n",
       "      <th>Members</th>\n",
       "      <th>page_url</th>\n",
       "      <th>image_url</th>\n",
       "      <th>Score</th>\n",
       "    </tr>\n",
       "  </thead>\n",
       "  <tbody>\n",
       "    <tr>\n",
       "      <th>0</th>\n",
       "      <td>0</td>\n",
       "      <td>Net-juu no Susume</td>\n",
       "      <td>1568</td>\n",
       "      <td>TV</td>\n",
       "      <td>10</td>\n",
       "      <td>Oct 2017 - Dec 2017</td>\n",
       "      <td>450968</td>\n",
       "      <td>https://myanimelist.net/anime/36038/Net-juu_no...</td>\n",
       "      <td>https://cdn.myanimelist.net/r/100x140/images/a...</td>\n",
       "      <td>7.55</td>\n",
       "    </tr>\n",
       "    <tr>\n",
       "      <th>1</th>\n",
       "      <td>1</td>\n",
       "      <td>Neon Genesis Evangelion: The End of Evangelion</td>\n",
       "      <td>99</td>\n",
       "      <td>Movie</td>\n",
       "      <td>1</td>\n",
       "      <td>Jul 1997 - Jul 1997</td>\n",
       "      <td>883576</td>\n",
       "      <td>https://myanimelist.net/anime/32/Neon_Genesis_...</td>\n",
       "      <td>https://cdn.myanimelist.net/r/100x140/images/a...</td>\n",
       "      <td>8.55</td>\n",
       "    </tr>\n",
       "    <tr>\n",
       "      <th>2</th>\n",
       "      <td>2</td>\n",
       "      <td>Templex</td>\n",
       "      <td>11445</td>\n",
       "      <td>Movie</td>\n",
       "      <td>1</td>\n",
       "      <td>2015 - 2015</td>\n",
       "      <td>538</td>\n",
       "      <td>https://myanimelist.net/anime/40721/Templex</td>\n",
       "      <td>https://cdn.myanimelist.net/r/100x140/images/a...</td>\n",
       "      <td>5.29</td>\n",
       "    </tr>\n",
       "    <tr>\n",
       "      <th>3</th>\n",
       "      <td>3</td>\n",
       "      <td>s.CRY.ed</td>\n",
       "      <td>2248</td>\n",
       "      <td>TV</td>\n",
       "      <td>26</td>\n",
       "      <td>Jul 2001 - Dec 2001</td>\n",
       "      <td>81283</td>\n",
       "      <td>https://myanimelist.net/anime/168/sCRYed</td>\n",
       "      <td>https://cdn.myanimelist.net/r/100x140/images/a...</td>\n",
       "      <td>7.36</td>\n",
       "    </tr>\n",
       "    <tr>\n",
       "      <th>4</th>\n",
       "      <td>4</td>\n",
       "      <td>Toaru Majutsu no Index-tan III</td>\n",
       "      <td>6679</td>\n",
       "      <td>Special</td>\n",
       "      <td>2</td>\n",
       "      <td>Dec 2018 - Apr 2019</td>\n",
       "      <td>11370</td>\n",
       "      <td>https://myanimelist.net/anime/39094/Toaru_Maju...</td>\n",
       "      <td>https://cdn.myanimelist.net/r/100x140/images/a...</td>\n",
       "      <td>6.44</td>\n",
       "    </tr>\n",
       "  </tbody>\n",
       "</table>\n",
       "</div>"
      ],
      "text/plain": [
       "   Unnamed: 0                                           Title   Rank     Type  \\\n",
       "0           0                               Net-juu no Susume   1568       TV   \n",
       "1           1  Neon Genesis Evangelion: The End of Evangelion     99    Movie   \n",
       "2           2                                         Templex  11445    Movie   \n",
       "3           3                                        s.CRY.ed   2248       TV   \n",
       "4           4                  Toaru Majutsu no Index-tan III   6679  Special   \n",
       "\n",
       "  Episodes                Aired  Members  \\\n",
       "0       10  Oct 2017 - Dec 2017   450968   \n",
       "1        1  Jul 1997 - Jul 1997   883576   \n",
       "2        1          2015 - 2015      538   \n",
       "3       26  Jul 2001 - Dec 2001    81283   \n",
       "4        2  Dec 2018 - Apr 2019    11370   \n",
       "\n",
       "                                            page_url  \\\n",
       "0  https://myanimelist.net/anime/36038/Net-juu_no...   \n",
       "1  https://myanimelist.net/anime/32/Neon_Genesis_...   \n",
       "2        https://myanimelist.net/anime/40721/Templex   \n",
       "3           https://myanimelist.net/anime/168/sCRYed   \n",
       "4  https://myanimelist.net/anime/39094/Toaru_Maju...   \n",
       "\n",
       "                                           image_url  Score  \n",
       "0  https://cdn.myanimelist.net/r/100x140/images/a...   7.55  \n",
       "1  https://cdn.myanimelist.net/r/100x140/images/a...   8.55  \n",
       "2  https://cdn.myanimelist.net/r/100x140/images/a...   5.29  \n",
       "3  https://cdn.myanimelist.net/r/100x140/images/a...   7.36  \n",
       "4  https://cdn.myanimelist.net/r/100x140/images/a...   6.44  "
      ]
     },
     "execution_count": 5,
     "metadata": {},
     "output_type": "execute_result"
    }
   ],
   "source": [
    "# Read the CSV file into a pandas DataFrame\n",
    "file_path = 'data/MAL-anime.csv'\n",
    "df = pd.read_csv(file_path)\n",
    "df.head()"
   ]
  },
  {
   "cell_type": "code",
   "execution_count": 6,
   "id": "2e10d733-ae3f-4bfd-9535-7246f0589f1e",
   "metadata": {},
   "outputs": [],
   "source": [
    "# Prepare the data for modeling\n",
    "X = df.drop(columns=['Score'])  # Features (all columns except 'Score')\n",
    "y = df['Score']  # Target variable"
   ]
  },
  {
   "cell_type": "code",
   "execution_count": 7,
   "id": "f62dd7f5-2201-4681-b61c-6ada00402e50",
   "metadata": {},
   "outputs": [],
   "source": [
    "# Split the data into training and test sets\n",
    "X_train, X_test, y_train, y_test = train_test_split(X, y, test_size=0.2, random_state=42)"
   ]
  },
  {
   "cell_type": "code",
   "execution_count": 8,
   "id": "77962c18-0e08-4d17-ab80-a0c7e7a6c9c6",
   "metadata": {},
   "outputs": [],
   "source": [
    "# Combine the training and test sets to get all possible categorical values\n",
    "combined_data = pd.concat([X, X_test], axis=0)"
   ]
  },
  {
   "cell_type": "code",
   "execution_count": 9,
   "id": "1c0f92de-90fd-4593-91ea-b4b65910d0dc",
   "metadata": {},
   "outputs": [],
   "source": [
    "# Perform one-hot encoding on categorical columns with all possible values\n",
    "X_encoded = pd.get_dummies(combined_data)"
   ]
  },
  {
   "cell_type": "code",
   "execution_count": 10,
   "id": "9fb540c1-a652-460a-a13a-cc649a4c9b45",
   "metadata": {},
   "outputs": [],
   "source": [
    "# Split the data into training and testing sets again\n",
    "X_train_encoded = X_encoded.iloc[:len(X_train)]\n",
    "X_test_encoded = X_encoded.iloc[len(X_train):]"
   ]
  },
  {
   "cell_type": "code",
   "execution_count": 11,
   "id": "d37bb4d8-0164-4bf4-a9d5-720d3666b7ac",
   "metadata": {},
   "outputs": [
    {
     "data": {
      "text/html": [
       "<style>#sk-container-id-1 {color: black;background-color: white;}#sk-container-id-1 pre{padding: 0;}#sk-container-id-1 div.sk-toggleable {background-color: white;}#sk-container-id-1 label.sk-toggleable__label {cursor: pointer;display: block;width: 100%;margin-bottom: 0;padding: 0.3em;box-sizing: border-box;text-align: center;}#sk-container-id-1 label.sk-toggleable__label-arrow:before {content: \"▸\";float: left;margin-right: 0.25em;color: #696969;}#sk-container-id-1 label.sk-toggleable__label-arrow:hover:before {color: black;}#sk-container-id-1 div.sk-estimator:hover label.sk-toggleable__label-arrow:before {color: black;}#sk-container-id-1 div.sk-toggleable__content {max-height: 0;max-width: 0;overflow: hidden;text-align: left;background-color: #f0f8ff;}#sk-container-id-1 div.sk-toggleable__content pre {margin: 0.2em;color: black;border-radius: 0.25em;background-color: #f0f8ff;}#sk-container-id-1 input.sk-toggleable__control:checked~div.sk-toggleable__content {max-height: 200px;max-width: 100%;overflow: auto;}#sk-container-id-1 input.sk-toggleable__control:checked~label.sk-toggleable__label-arrow:before {content: \"▾\";}#sk-container-id-1 div.sk-estimator input.sk-toggleable__control:checked~label.sk-toggleable__label {background-color: #d4ebff;}#sk-container-id-1 div.sk-label input.sk-toggleable__control:checked~label.sk-toggleable__label {background-color: #d4ebff;}#sk-container-id-1 input.sk-hidden--visually {border: 0;clip: rect(1px 1px 1px 1px);clip: rect(1px, 1px, 1px, 1px);height: 1px;margin: -1px;overflow: hidden;padding: 0;position: absolute;width: 1px;}#sk-container-id-1 div.sk-estimator {font-family: monospace;background-color: #f0f8ff;border: 1px dotted black;border-radius: 0.25em;box-sizing: border-box;margin-bottom: 0.5em;}#sk-container-id-1 div.sk-estimator:hover {background-color: #d4ebff;}#sk-container-id-1 div.sk-parallel-item::after {content: \"\";width: 100%;border-bottom: 1px solid gray;flex-grow: 1;}#sk-container-id-1 div.sk-label:hover label.sk-toggleable__label {background-color: #d4ebff;}#sk-container-id-1 div.sk-serial::before {content: \"\";position: absolute;border-left: 1px solid gray;box-sizing: border-box;top: 0;bottom: 0;left: 50%;z-index: 0;}#sk-container-id-1 div.sk-serial {display: flex;flex-direction: column;align-items: center;background-color: white;padding-right: 0.2em;padding-left: 0.2em;position: relative;}#sk-container-id-1 div.sk-item {position: relative;z-index: 1;}#sk-container-id-1 div.sk-parallel {display: flex;align-items: stretch;justify-content: center;background-color: white;position: relative;}#sk-container-id-1 div.sk-item::before, #sk-container-id-1 div.sk-parallel-item::before {content: \"\";position: absolute;border-left: 1px solid gray;box-sizing: border-box;top: 0;bottom: 0;left: 50%;z-index: -1;}#sk-container-id-1 div.sk-parallel-item {display: flex;flex-direction: column;z-index: 1;position: relative;background-color: white;}#sk-container-id-1 div.sk-parallel-item:first-child::after {align-self: flex-end;width: 50%;}#sk-container-id-1 div.sk-parallel-item:last-child::after {align-self: flex-start;width: 50%;}#sk-container-id-1 div.sk-parallel-item:only-child::after {width: 0;}#sk-container-id-1 div.sk-dashed-wrapped {border: 1px dashed gray;margin: 0 0.4em 0.5em 0.4em;box-sizing: border-box;padding-bottom: 0.4em;background-color: white;}#sk-container-id-1 div.sk-label label {font-family: monospace;font-weight: bold;display: inline-block;line-height: 1.2em;}#sk-container-id-1 div.sk-label-container {text-align: center;}#sk-container-id-1 div.sk-container {/* jupyter's `normalize.less` sets `[hidden] { display: none; }` but bootstrap.min.css set `[hidden] { display: none !important; }` so we also need the `!important` here to be able to override the default hidden behavior on the sphinx rendered scikit-learn.org. See: https://github.com/scikit-learn/scikit-learn/issues/21755 */display: inline-block !important;position: relative;}#sk-container-id-1 div.sk-text-repr-fallback {display: none;}</style><div id=\"sk-container-id-1\" class=\"sk-top-container\"><div class=\"sk-text-repr-fallback\"><pre>LinearRegression()</pre><b>In a Jupyter environment, please rerun this cell to show the HTML representation or trust the notebook. <br />On GitHub, the HTML representation is unable to render, please try loading this page with nbviewer.org.</b></div><div class=\"sk-container\" hidden><div class=\"sk-item\"><div class=\"sk-estimator sk-toggleable\"><input class=\"sk-toggleable__control sk-hidden--visually\" id=\"sk-estimator-id-1\" type=\"checkbox\" checked><label for=\"sk-estimator-id-1\" class=\"sk-toggleable__label sk-toggleable__label-arrow\">LinearRegression</label><div class=\"sk-toggleable__content\"><pre>LinearRegression()</pre></div></div></div></div></div>"
      ],
      "text/plain": [
       "LinearRegression()"
      ]
     },
     "execution_count": 11,
     "metadata": {},
     "output_type": "execute_result"
    }
   ],
   "source": [
    "# Create and train the linear regression model\n",
    "model = LinearRegression()\n",
    "model.fit(X_train_encoded, y_train)"
   ]
  },
  {
   "cell_type": "code",
   "execution_count": 12,
   "id": "bab00455-27c7-4803-b06a-662881313415",
   "metadata": {},
   "outputs": [
    {
     "name": "stdout",
     "output_type": "stream",
     "text": [
      "[6.5399672  6.56778722 6.54940446 ... 6.52       6.66571906 6.02      ]\n"
     ]
    }
   ],
   "source": [
    "# Make predictions on the test set\n",
    "y_pred = model.predict(X_test_encoded)\n",
    "print(y_pred)"
   ]
  }
 ],
 "metadata": {
  "kernelspec": {
   "display_name": "Python 3 (ipykernel)",
   "language": "python",
   "name": "python3"
  },
  "language_info": {
   "codemirror_mode": {
    "name": "ipython",
    "version": 3
   },
   "file_extension": ".py",
   "mimetype": "text/x-python",
   "name": "python",
   "nbconvert_exporter": "python",
   "pygments_lexer": "ipython3",
   "version": "3.10.9"
  }
 },
 "nbformat": 4,
 "nbformat_minor": 5
}
